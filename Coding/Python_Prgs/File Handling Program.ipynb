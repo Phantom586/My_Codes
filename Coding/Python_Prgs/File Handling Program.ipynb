{
 "cells": [
  {
   "cell_type": "code",
   "execution_count": 1,
   "metadata": {},
   "outputs": [
    {
     "name": "stdout",
     "output_type": "stream",
     "text": [
      "Welcome to My Editor !!!\n"
     ]
    }
   ],
   "source": [
    "class Editor(object):\n",
    "    \"\"\"\n",
    "        Parameters : f_name\n",
    "        f_name = File Name with its Extension\n",
    "\n",
    "    \"\"\"\n",
    "    print('Welcome to My Editor !!!')\n",
    "\n",
    "    def __init__(self, f_name):\n",
    "        self.f_name = f_name\n",
    "\n",
    "    def Read_File(self):\n",
    "        \"\"\"\n",
    "        Parameters : None\n",
    "        Description :\n",
    "            Displays the Content of the File.\n",
    "\n",
    "        \"\"\"\n",
    "        with open(self.f_name) as f:\n",
    "            for line in f:\n",
    "                print(line, end='')\n",
    "\n",
    "    def Extract_Data(self):\n",
    "        \"\"\"\n",
    "        Parameters : None\n",
    "        Description :\n",
    "            Extracts the Data of the File in a /List.\n",
    "\n",
    "        \"\"\"\n",
    "        data = []\n",
    "        with open(self.f_name) as f:\n",
    "            for line in f:\n",
    "                data.append(line)\n",
    "        return data\n",
    "\n",
    "    def Edit_File(self, string='', append=False, delete=False, line_no=0):\n",
    "        \"\"\"\n",
    "            Parameters :\n",
    "                string = [' '(Default)] The String to be Appended in the File.\n",
    "                append = [False(Default)] To Append a string in the File.\n",
    "                delete = [False(Default)] to Delete a Specific line from the File.\n",
    "                line_no = [0(Default)]\n",
    "\n",
    "            Description :\n",
    "                line_no = No. of the Line you want to Delete.\n",
    "                Helps you in Deleting the Unwanted Text from the File.\n",
    "\n",
    "        \"\"\"\n",
    "        temp_data = []\n",
    "        if append == True:\n",
    "            with open(self.f_name, 'a') as f:\n",
    "                f.write('\\n')\n",
    "                f.write(string)\n",
    "        elif delete == True:\n",
    "            with open(self.f_name) as f:\n",
    "                for line in f:\n",
    "                    temp_data.append(line)\n",
    "            del (temp_data[line_no])\n",
    "            with open(self.f_name, 'w+') as f:\n",
    "                for i in temp_data:\n",
    "                    f.write(i)\n",
    "\n",
    "        with open(self.f_name) as f:\n",
    "            for line in f:\n",
    "                print(line, end='')"
   ]
  },
  {
   "cell_type": "code",
   "execution_count": 6,
   "metadata": {},
   "outputs": [
    {
     "name": "stdout",
     "output_type": "stream",
     "text": [
      "\n",
      "Hello My name is Harsh\n",
      "Hello Psit"
     ]
    }
   ],
   "source": [
    "file = Editor(\"new.txt\")\n",
    "file.Edit_File(string=\"Hello Psit\", append=True)"
   ]
  },
  {
   "cell_type": "code",
   "execution_count": null,
   "metadata": {},
   "outputs": [],
   "source": []
  }
 ],
 "metadata": {
  "kernelspec": {
   "display_name": "Python 3",
   "language": "python",
   "name": "python3"
  },
  "language_info": {
   "codemirror_mode": {
    "name": "ipython",
    "version": 3
   },
   "file_extension": ".py",
   "mimetype": "text/x-python",
   "name": "python",
   "nbconvert_exporter": "python",
   "pygments_lexer": "ipython3",
   "version": "3.7.1"
  }
 },
 "nbformat": 4,
 "nbformat_minor": 2
}
